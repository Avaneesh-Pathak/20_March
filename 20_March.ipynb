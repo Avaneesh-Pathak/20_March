{
 "cells": [
  {
   "cell_type": "markdown",
   "metadata": {},
   "source": [
    "Q1. What is data encoding? How is it useful in data science?\n",
    "\n",
    "Q2. What is nominal encoding? Provide an example of how you would use it in a real-world scenario.\n",
    "\n",
    "Q3. In what situations is nominal encoding preferred over one-hot encoding? Provide a practical example.\n",
    "\n",
    "Q4. Suppose you have a dataset containing categorical data with 5 unique values. Which encoding\n",
    "technique would you use to transform this data into a format suitable for machine learning algorithms?\n",
    "Explain why you made this choice.\n",
    "\n",
    "Q5. In a machine learning project, you have a dataset with 1000 rows and 5 columns. Two of the columns\n",
    "are categorical, and the remaining three columns are numerical. If you were to use nominal encoding to\n",
    "transform the categorical data, how many new columns would be created? Show your calculations.\n",
    "\n",
    "Q6. You are working with a dataset containing information about different types of animals, including their\n",
    "species, habitat, and diet. Which encoding technique would you use to transform the categorical data into\n",
    "a format suitable for machine learning algorithms? Justify your answer.\n",
    "\n",
    "Q7.You are working on a project that involves predicting customer churn for a telecommunications\n",
    "company. You have a dataset with 5 features, including the customer's gender, age, contract type,\n",
    "monthly charges, and tenure. Which encoding technique(s) would you use to transform the categorical\n",
    "data into numerical data? Provide a step-by-step explanation of how you would implement the encoding."
   ]
  },
  {
   "cell_type": "code",
   "execution_count": null,
   "metadata": {},
   "outputs": [],
   "source": []
  },
  {
   "cell_type": "markdown",
   "metadata": {},
   "source": [
    "Q1. Data encoding is the process of converting data from one format or representation to another format that is suitable for a particular purpose or analysis. In data science, encoding is useful for handling categorical variables, which are variables that take on a limited number of distinct values or categories. By encoding categorical variables into numerical representations, data scientists can apply mathematical and statistical operations on the data, as many machine learning algorithms require numerical inputs.\n",
    "\n",
    "Q2. Nominal encoding, also known as label encoding, is a technique used to convert categorical variables into numerical values. Each category is assigned a unique numerical label. For example, consider a scenario where you have a dataset of animals, and one of the features is \"Species\" with categories such as \"Dog,\" \"Cat,\" and \"Bird.\" Nominal encoding would assign numerical labels like 0, 1, and 2 to these categories, respectively.\n",
    "\n",
    "Q3. Nominal encoding is preferred over one-hot encoding in situations where the categorical variable has a large number of unique categories. One-hot encoding creates a binary feature for each category, resulting in a high-dimensional and sparse dataset. In such cases, nominal encoding provides a more compact representation. For example, consider a dataset with a feature for \"Country\" that has hundreds of unique values. Using one-hot encoding would create hundreds of additional columns, whereas nominal encoding would represent each country with a numerical label.\n",
    "\n",
    "Q4. If the dataset contains categorical data with 5 unique values, you could use nominal encoding to transform the data into a format suitable for machine learning algorithms. Nominal encoding assigns a unique numerical label to each category, allowing the data to be processed by algorithms that require numerical inputs. In this case, nominal encoding would result in replacing the 5 unique categorical values with 5 corresponding numerical labels.\n",
    "\n",
    "Q5. If you were to use nominal encoding to transform the categorical data in a dataset with 1000 rows and 5 columns, and two of the columns are categorical, the number of new columns created would be 2. Nominal encoding replaces each categorical column with a single column of numerical labels, so the number of new columns created is equal to the number of original categorical columns.\n",
    "\n",
    "Q6. For transforming categorical data about different types of animals, including their species, habitat, and diet, into a format suitable for machine learning algorithms, one suitable encoding technique would be one-hot encoding. One-hot encoding creates a binary feature for each category, representing the presence or absence of that category. In this case, each animal species, habitat, and diet would be represented by separate binary features, allowing the algorithm to understand the relationships between different categories without assuming any ordinal relationship.\n",
    "\n",
    "Q7. To transform the categorical data into numerical data for predicting customer churn in a telecommunications company dataset, you can use a combination of nominal encoding and one-hot encoding. Here's a step-by-step explanation:\n",
    "\n",
    "1. Identify the categorical features: In this case, the categorical features are the customer's gender and contract type.\n",
    "\n",
    "2. Nominal Encoding: Apply nominal encoding to the gender feature, assigning numerical labels (e.g., 0 for male, 1 for female) to each category.\n",
    "\n",
    "3. One-Hot Encoding: Apply one-hot encoding to the contract type feature. Create binary features for each category (e.g., one feature for \"month-to-month,\" another for \"one year,\" and another for \"two years\"). Each binary feature represents the presence or absence of a specific contract type.\n",
    "\n",
    "4. Numeric Features: The remaining numerical features (age, monthly charges, and tenure) can be used as they are since they are already in a numerical format.\n",
    "\n",
    "After applying these encoding techniques, you will have a transformed dataset where the categorical data is represented numerically, allowing it to be used as input for machine learning algorithms."
   ]
  }
 ],
 "metadata": {
  "language_info": {
   "name": "python"
  },
  "orig_nbformat": 4
 },
 "nbformat": 4,
 "nbformat_minor": 2
}
